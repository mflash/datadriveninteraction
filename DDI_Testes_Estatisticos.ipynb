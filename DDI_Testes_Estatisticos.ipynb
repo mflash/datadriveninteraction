{
 "cells": [
  {
   "cell_type": "markdown",
   "metadata": {
    "id": "4RuhCGSO5irt"
   },
   "source": [
    "# Data-Driven Interaction\n",
    "## Testes estatísticos"
   ]
  },
  {
   "cell_type": "code",
   "execution_count": 1,
   "metadata": {
    "colab": {
     "base_uri": "https://localhost:8080/"
    },
    "id": "lfwK6OXG5irw",
    "outputId": "9d815933-e362-4db8-96fb-f062e3924208"
   },
   "outputs": [],
   "source": [
    "!pip install ipyfilechooser --quiet\n",
    "import pandas as pd\n",
    "import numpy as np\n",
    "\n",
    "from matplotlib import pyplot as plt\n",
    "from scipy import stats\n",
    "from scipy.stats import levene, ranksums\n",
    "from ipyfilechooser import FileChooser\n",
    "from IPython.display import HTML, display, Image\n",
    "\n",
    "plt.style.use('fivethirtyeight')\n"
   ]
  },
  {
   "cell_type": "code",
   "execution_count": 2,
   "metadata": {
    "id": "28zGucfC5irx"
   },
   "outputs": [],
   "source": [
    "# Resultados de um teste\n",
    "resultados = { \n",
    "    'Participante': [\n",
    "        1, 2, 3, 4, 5, 6, 7, 8, 9, 10, 11, 12, 13, 14, 15, 16, 17, 18, 19, 20,\n",
    "        21, 22, 23, 24, 25, 26, 27, 28, 29, 30, 31, 32, 33, 34, 35, 36, 37, 38,\n",
    "        39, 40, 41, 42, 43, 44, 45, 46, 47, 48, 49, 50, 51, 52, 53, 54, 55, 56,\n",
    "        57, 58, 59, 60, 61, 62, 63, 64, 65, 66, 67, 68, 69, 70       \n",
    "    ],\n",
    "    'Tempo':[\n",
    "        200, 322, 255, 283, 180, 229, 325, 306, 160, 335, 69, 170, 243, 348,\n",
    "        191, 90, 187, 185, 123, 347, 213, 242, 327, 338, 319, 197, 240, 325,\n",
    "        340, 213, 251, 153, 310, 212, 292, 358, 337, 183, 231, 300, 230, 403,\n",
    "        167, 181, 289, 364, 411, 175, 331, 365, 385, 289, 214, 418, 317, 297,\n",
    "        418, 132, 332, 328, 302, 165, 235, 225, 286, 179, 321, 404, 314, 413\n",
    "    ],\n",
    "    'Versão':[\n",
    "        1, 1, 1, 1, 1, 1, 1, 1, 1, 1, 1, 1, 1, 1, 1, 1, 1, 1, 1, 1, 1, 1, 1,\n",
    "        1, 1, 1, 1, 1, 1, 1, 1, 1, 1, 1, 1, 2, 2, 2, 2, 2, 2, 2, 2, 2, 2, 2, 2,\n",
    "        2, 2, 2, 2, 2, 2, 2, 2, 2, 2, 2, 2, 2, 2, 2, 2, 2, 2, 2, 2, 2, 2, 2\n",
    "    ]\n",
    "}"
   ]
  },
  {
   "cell_type": "code",
   "execution_count": 3,
   "metadata": {
    "id": "J_dNv_Cw5irz"
   },
   "outputs": [],
   "source": [
    "# Criando o data frame\n",
    "df = pd.DataFrame( data = resultados )\n",
    "\n",
    "# Para adicionar a leitura a partir de um CSV, comente a linha anterior\n",
    "# e descomente as linhas abaixo:\n",
    "#fc = FileChooser('/content');\n",
    "#display(fc)\n",
    "#df = pd.read_csv( fc.selected )"
   ]
  },
  {
   "cell_type": "code",
   "execution_count": 4,
   "metadata": {
    "colab": {
     "base_uri": "https://localhost:8080/",
     "height": 424
    },
    "id": "F3zuQfZU5ir0",
    "outputId": "1bdf85e0-7e3f-4b0e-cbc4-6577eae1f1e9"
   },
   "outputs": [
    {
     "data": {
      "text/html": [
       "<div>\n",
       "<style scoped>\n",
       "    .dataframe tbody tr th:only-of-type {\n",
       "        vertical-align: middle;\n",
       "    }\n",
       "\n",
       "    .dataframe tbody tr th {\n",
       "        vertical-align: top;\n",
       "    }\n",
       "\n",
       "    .dataframe thead th {\n",
       "        text-align: right;\n",
       "    }\n",
       "</style>\n",
       "<table border=\"1\" class=\"dataframe\">\n",
       "  <thead>\n",
       "    <tr style=\"text-align: right;\">\n",
       "      <th></th>\n",
       "      <th>Participante</th>\n",
       "      <th>Tempo</th>\n",
       "      <th>Versão</th>\n",
       "    </tr>\n",
       "  </thead>\n",
       "  <tbody>\n",
       "    <tr>\n",
       "      <th>0</th>\n",
       "      <td>1</td>\n",
       "      <td>200</td>\n",
       "      <td>1</td>\n",
       "    </tr>\n",
       "    <tr>\n",
       "      <th>1</th>\n",
       "      <td>2</td>\n",
       "      <td>322</td>\n",
       "      <td>1</td>\n",
       "    </tr>\n",
       "    <tr>\n",
       "      <th>2</th>\n",
       "      <td>3</td>\n",
       "      <td>255</td>\n",
       "      <td>1</td>\n",
       "    </tr>\n",
       "    <tr>\n",
       "      <th>3</th>\n",
       "      <td>4</td>\n",
       "      <td>283</td>\n",
       "      <td>1</td>\n",
       "    </tr>\n",
       "    <tr>\n",
       "      <th>4</th>\n",
       "      <td>5</td>\n",
       "      <td>180</td>\n",
       "      <td>1</td>\n",
       "    </tr>\n",
       "    <tr>\n",
       "      <th>...</th>\n",
       "      <td>...</td>\n",
       "      <td>...</td>\n",
       "      <td>...</td>\n",
       "    </tr>\n",
       "    <tr>\n",
       "      <th>65</th>\n",
       "      <td>66</td>\n",
       "      <td>179</td>\n",
       "      <td>2</td>\n",
       "    </tr>\n",
       "    <tr>\n",
       "      <th>66</th>\n",
       "      <td>67</td>\n",
       "      <td>321</td>\n",
       "      <td>2</td>\n",
       "    </tr>\n",
       "    <tr>\n",
       "      <th>67</th>\n",
       "      <td>68</td>\n",
       "      <td>404</td>\n",
       "      <td>2</td>\n",
       "    </tr>\n",
       "    <tr>\n",
       "      <th>68</th>\n",
       "      <td>69</td>\n",
       "      <td>314</td>\n",
       "      <td>2</td>\n",
       "    </tr>\n",
       "    <tr>\n",
       "      <th>69</th>\n",
       "      <td>70</td>\n",
       "      <td>413</td>\n",
       "      <td>2</td>\n",
       "    </tr>\n",
       "  </tbody>\n",
       "</table>\n",
       "<p>70 rows × 3 columns</p>\n",
       "</div>"
      ],
      "text/plain": [
       "    Participante  Tempo  Versão\n",
       "0              1    200       1\n",
       "1              2    322       1\n",
       "2              3    255       1\n",
       "3              4    283       1\n",
       "4              5    180       1\n",
       "..           ...    ...     ...\n",
       "65            66    179       2\n",
       "66            67    321       2\n",
       "67            68    404       2\n",
       "68            69    314       2\n",
       "69            70    413       2\n",
       "\n",
       "[70 rows x 3 columns]"
      ]
     },
     "execution_count": 4,
     "metadata": {},
     "output_type": "execute_result"
    }
   ],
   "source": [
    "# Verificando se está tudo OK\n",
    "df"
   ]
  },
  {
   "cell_type": "code",
   "execution_count": 5,
   "metadata": {
    "colab": {
     "base_uri": "https://localhost:8080/"
    },
    "id": "qE3tl2qW5ir2",
    "outputId": "061ad7e6-2cd1-4e49-c016-4797438a01aa"
   },
   "outputs": [
    {
     "data": {
      "text/plain": [
       "count     35.000000\n",
       "mean     243.428571\n",
       "std       77.160751\n",
       "min       69.000000\n",
       "25%      189.000000\n",
       "50%      242.000000\n",
       "75%      320.500000\n",
       "max      348.000000\n",
       "Name: Tempo, dtype: float64"
      ]
     },
     "execution_count": 5,
     "metadata": {},
     "output_type": "execute_result"
    }
   ],
   "source": [
    "# Visão geral dos dados da versão 1\n",
    "v1 = df[ df['Versão'] == 1 ]\n",
    "v1.Tempo.describe()"
   ]
  },
  {
   "cell_type": "code",
   "execution_count": 6,
   "metadata": {
    "colab": {
     "base_uri": "https://localhost:8080/"
    },
    "id": "o88UHOaS5ir2",
    "outputId": "6b925310-b611-410e-f0eb-b9abc73a8c63"
   },
   "outputs": [
    {
     "data": {
      "text/plain": [
       "count     35.000000\n",
       "mean     294.257143\n",
       "std       85.197812\n",
       "min      132.000000\n",
       "25%      227.500000\n",
       "50%      302.000000\n",
       "75%      361.000000\n",
       "max      418.000000\n",
       "Name: Tempo, dtype: float64"
      ]
     },
     "execution_count": 6,
     "metadata": {},
     "output_type": "execute_result"
    }
   ],
   "source": [
    "# Visão geral dos dados da versão 2\n",
    "v2 = df[ df['Versão'] == 2 ]\n",
    "v2.Tempo.describe()"
   ]
  },
  {
   "cell_type": "code",
   "execution_count": 7,
   "metadata": {
    "colab": {
     "base_uri": "https://localhost:8080/",
     "height": 335
    },
    "id": "lMwztoWH5ir2",
    "outputId": "67d837eb-3476-48fe-d9eb-20bbd383b635"
   },
   "outputs": [
    {
     "data": {
      "text/plain": [
       "(array([2., 1., 0., 4., 5., 4., 5., 2., 3., 9.]),\n",
       " array([ 69. ,  96.9, 124.8, 152.7, 180.6, 208.5, 236.4, 264.3, 292.2,\n",
       "        320.1, 348. ]),\n",
       " <BarContainer object of 10 artists>)"
      ]
     },
     "execution_count": 7,
     "metadata": {},
     "output_type": "execute_result"
    },
    {
     "data": {
      "image/png": "[encoded data removed]",
      "text/plain": [
       "<Figure size 432x288 with 1 Axes>"
      ]
     },
     "metadata": {},
     "output_type": "display_data"
    }
   ],
   "source": [
    "# Visualizando o histograma de tempo da versão 1\n",
    "plt.hist( v1.Tempo )"
   ]
  },
  {
   "cell_type": "code",
   "execution_count": 8,
   "metadata": {
    "colab": {
     "base_uri": "https://localhost:8080/",
     "height": 335
    },
    "id": "ctSK1jsN5ir3",
    "outputId": "1fde51a3-2c8d-4ca2-a633-80a334d89e3a"
   },
   "outputs": [
    {
     "data": {
      "text/plain": [
       "(array([1., 6., 1., 4., 0., 6., 6., 2., 3., 6.]),\n",
       " array([132. , 160.6, 189.2, 217.8, 246.4, 275. , 303.6, 332.2, 360.8,\n",
       "        389.4, 418. ]),\n",
       " <BarContainer object of 10 artists>)"
      ]
     },
     "execution_count": 8,
     "metadata": {},
     "output_type": "execute_result"
    },
    {
     "data": {
      "image/png": "[encoded data removed]",
      "text/plain": [
       "<Figure size 432x288 with 1 Axes>"
      ]
     },
     "metadata": {},
     "output_type": "display_data"
    }
   ],
   "source": [
    "# Visualizando o histograma de tempo da versão 2\n",
    "plt.hist( v2.Tempo )"
   ]
  },
  {
   "cell_type": "code",
   "execution_count": 9,
   "metadata": {
    "colab": {
     "base_uri": "https://localhost:8080/",
     "height": 538
    },
    "id": "qxtT4DYTwrdO",
    "outputId": "d6805006-c18b-4dcb-b82a-00a94f3d7a8b"
   },
   "outputs": [
    {
     "data": {
      "text/plain": [
       "{'whiskers': [<matplotlib.lines.Line2D at 0x15a5cb820>,\n",
       "  <matplotlib.lines.Line2D at 0x15a5cbaf0>,\n",
       "  <matplotlib.lines.Line2D at 0x15a5e8100>,\n",
       "  <matplotlib.lines.Line2D at 0x15a5e8490>],\n",
       " 'caps': [<matplotlib.lines.Line2D at 0x15a5cbe80>,\n",
       "  <matplotlib.lines.Line2D at 0x15a5db250>,\n",
       "  <matplotlib.lines.Line2D at 0x15a5e8820>,\n",
       "  <matplotlib.lines.Line2D at 0x15a5e8bb0>],\n",
       " 'boxes': [<matplotlib.lines.Line2D at 0x15a5cb3d0>,\n",
       "  <matplotlib.lines.Line2D at 0x15a5dbd30>],\n",
       " 'medians': [<matplotlib.lines.Line2D at 0x15a5db5e0>,\n",
       "  <matplotlib.lines.Line2D at 0x15a5e8f40>],\n",
       " 'fliers': [<matplotlib.lines.Line2D at 0x15a5db970>,\n",
       "  <matplotlib.lines.Line2D at 0x15a5f2310>],\n",
       " 'means': []}"
      ]
     },
     "execution_count": 9,
     "metadata": {},
     "output_type": "execute_result"
    },
    {
     "data": {
      "image/png": "[encoded data removed]",
      "text/plain": [
       "<Figure size 432x288 with 1 Axes>"
      ]
     },
     "metadata": {},
     "output_type": "display_data"
    }
   ],
   "source": [
    "plt.boxplot( [v1.Tempo, v2.Tempo], labels=['Tempo de tarefa (v1)', 'Tempo de tarefa (v2)'] )"
   ]
  },
  {
   "cell_type": "markdown",
   "metadata": {
    "id": "Mtgpgfce5ir4"
   },
   "source": [
    "## Teste de normalidade\n",
    "\n",
    "Na biblioteca SciPy, você pode interpretar o p-value da seguinte forma.\n",
    "   \n",
    "* p <= alpha: os dados não seguem uma distribuição normal (rejeita H0).\n",
    "* p > alpha: os dados seguem uma distribuição normal (falha ao rejeitar H0).\n",
    "\n",
    "Neste exemplo, vamos usar alpha = 0.05"
   ]
  },
  {
   "cell_type": "code",
   "execution_count": 10,
   "metadata": {
    "id": "lSf7U1QA5ir5"
   },
   "outputs": [],
   "source": [
    "# Teste de normalidade\n",
    "shapiro_test = stats.shapiro( df.Tempo )"
   ]
  },
  {
   "cell_type": "code",
   "execution_count": 11,
   "metadata": {
    "colab": {
     "base_uri": "https://localhost:8080/"
    },
    "id": "WdXd4-7T5ir5",
    "outputId": "838014b8-dc37-43ac-dfe0-0ca69266af21"
   },
   "outputs": [
    {
     "name": "stdout",
     "output_type": "stream",
     "text": [
      "Os dados seguem uma distribuição normal (p-value=0.094)\n"
     ]
    }
   ],
   "source": [
    "alpha = 0.05\n",
    "if shapiro_test[1] <= alpha:\n",
    "    print( 'Os dados não seguem uma distribuição normal (p-value={:.3f})'.format(shapiro_test[1]) )\n",
    "else:\n",
    "    print( 'Os dados seguem uma distribuição normal (p-value={:.3f})'.format(shapiro_test[1]) )"
   ]
  },
  {
   "cell_type": "code",
   "execution_count": 12,
   "metadata": {
    "colab": {
     "base_uri": "https://localhost:8080/"
    },
    "id": "Xbm9Qv5czgfM",
    "outputId": "e2dc7aa0-4d50-4ae2-b54e-f55a469eabac"
   },
   "outputs": [
    {
     "name": "stdout",
     "output_type": "stream",
     "text": [
      "Grande p-value sugere que as populações têm a mesma variância (p-value=0.619)\n"
     ]
    }
   ],
   "source": [
    "# Teste de variância\n",
    "levene_test = levene( v1.Tempo, v2.Tempo )\n",
    "\n",
    "if levene_test.pvalue <= alpha:\n",
    "    print( 'Pequeno p-value sugere que as populações NÃO têm a mesma variância (p-value={:.3f})'.format(levene_test.pvalue) )\n",
    "else:\n",
    "    print( 'Grande p-value sugere que as populações têm a mesma variância (p-value={:.3f})'.format(levene_test.pvalue) )\n"
   ]
  },
  {
   "cell_type": "markdown",
   "metadata": {
    "id": "FaN_XxZy5ir6"
   },
   "source": [
    "## Escolhendo os testes estatísticos\n",
    "\n",
    "* **Se os dados seguem uma distribuição normal: testes paramétricos**\n",
    "    * Se precisar comparar condições entre 2 grupos: **Teste-T**\n",
    "        * **Exemplo:** para comparar tempos de tarefa entre dois grupos.\n",
    "    * Se precisar comparar 2 observações para cada participante: **Teste-T pareado**\n",
    "        * **Exemplo:** para comparar se participantes reduziram o tempo de tarefa (curva de aprendizado).\n",
    "    * Se precisar comparar 2+ condições para 2+ grupos: **ANOVA**\n",
    "        * **Exemplo:** para comparar tempos de tarefa considerando tempo de experiência e dispositivos utilizados.\n",
    "    * Se precisar comparar proporções de preferência: **Chi-quadrado**\n",
    "        * **Exemplo:** para comparar preferências de usuários para uma determinada IU.\n",
    "        \n",
    "* **Se os dados NÃO seguem uma distribuição normal: testes não paramétricos**\n",
    "  \n",
    "    * Se precisar comparar condições entre 2 grupos: **Teste Wilcoxon rank-sum**\n",
    "        * **Exemplo:** para comparar tempos de tarefa entre dois grupos.\n",
    "    * Se precisar comparar 2 observações para cada participante: **Teste Wilcoxon signed-rank**\n",
    "      * **Exemplo:** para comparar se participantes reduziram o tempo de tarefa (curva de aprendizado).\n",
    "    * Se precisar comparar 2+ observações para cada participante: **Teste Friedman**\n",
    "        * **Exemplo:** para comparar quando participantes experimentam 2+ opções de interface.\n",
    "    * Se precisar comparar proporções de preferência: **Ordinal Logistic Regression**\n",
    "        * **Exemplo:** para comparar preferências de usuários para uma determinada IU.\n",
    "        "
   ]
  },
  {
   "cell_type": "code",
   "execution_count": 13,
   "metadata": {
    "colab": {
     "base_uri": "https://localhost:8080/"
    },
    "id": "oPqZh1Ok5ir6",
    "outputId": "227c0f24-969e-410a-b3c7-e6055aa59662"
   },
   "outputs": [
    {
     "name": "stdout",
     "output_type": "stream",
     "text": [
      "Ttest_indResult(statistic=array([-14.28869017,  -2.61607547,         -inf]), pvalue=array([3.67609033e-22, 1.09491145e-02, 0.00000000e+00]))\n"
     ]
    }
   ],
   "source": [
    "# Verificando se a diferença entre as médias é estatisticamente significativa (PARAMÉTRICO)\n",
    "t_test = stats.ttest_ind( v1, v2, equal_var = True ) # Note que o equal_var=True com base no teste de Levene.\n",
    "print( t_test )"
   ]
  },
  {
   "cell_type": "code",
   "execution_count": 17,
   "metadata": {
    "colab": {
     "base_uri": "https://localhost:8080/"
    },
    "id": "7rtgXZW45ir7",
    "outputId": "0ad8f65e-22a3-42fe-82df-6e1a03dcc93e",
    "tags": []
   },
   "outputs": [
    {
     "name": "stdout",
     "output_type": "stream",
     "text": [
      "Diferença entre médias de tempo das versões 1 e 2 é estatisticamente significativa (p-value=0.000)\n"
     ]
    }
   ],
   "source": [
    "# nível de significância\n",
    "if( t_test.pvalue[0] <= alpha ):\n",
    "  print( 'Diferença entre médias de tempo das versões 1 e 2 é estatisticamente significativa (p-value={:.3f})'.format(t_test.pvalue[0]) )\n",
    "else:\n",
    "  print( 'Diferença entre médias de tempo das versões 1 e 2 NÃO é estatisticamente significativa (p-value={:.3f})'.format(t_test.pvalue[0]) )"
   ]
  },
  {
   "cell_type": "code",
   "execution_count": 15,
   "metadata": {
    "colab": {
     "base_uri": "https://localhost:8080/"
    },
    "id": "FDew_DhkxwOb",
    "outputId": "8f9d5c6a-55ed-43dd-cd28-f5576c00b587"
   },
   "outputs": [
    {
     "name": "stdout",
     "output_type": "stream",
     "text": [
      "RanksumsResult(statistic=-2.190646189420023, pvalue=0.02847740589684484)\n"
     ]
    }
   ],
   "source": [
    "# Verificando se a diferença entre as médias é estatisticamente significativa (NÃO PARAMÉTRICO)\n",
    "ranksum_result = ranksums( v1.Tempo, v2.Tempo )\n",
    "print( ranksum_result )"
   ]
  },
  {
   "cell_type": "code",
   "execution_count": 16,
   "metadata": {
    "colab": {
     "base_uri": "https://localhost:8080/"
    },
    "id": "S8IToPo84fPM",
    "outputId": "295516b7-6819-41a2-ec0f-178a49d1a64b"
   },
   "outputs": [
    {
     "name": "stdout",
     "output_type": "stream",
     "text": [
      "Diferença entre médias de tempo das versões 1 e 2 é estatisticamente significativa (p-value=0.000)\n"
     ]
    }
   ],
   "source": [
    "if( ranksum_result.pvalue <= alpha ):\n",
    "  print( 'Diferença entre médias de tempo das versões 1 e 2 é estatisticamente significativa (p-value={:.3f})'.format(t_test.pvalue[0]) )\n",
    "else:\n",
    "  print( 'Diferença entre médias de tempo das versões 1 e 2 NÃO é estatisticamente significativa (p-value={:.3f})'.format(t_test.pvalue[0]) )"
   ]
  }
 ],
 "metadata": {
  "colab": {
   "collapsed_sections": [],
   "name": "Data-Driven Interaction - Testes estatísticos.ipynb",
   "provenance": []
  },
  "kernelspec": {
   "display_name": "Python 3 (ipykernel)",
   "language": "python",
   "name": "python3"
  },
  "language_info": {
   "codemirror_mode": {
    "name": "ipython",
    "version": 3
   },
   "file_extension": ".py",
   "mimetype": "text/x-python",
   "name": "python",
   "nbconvert_exporter": "python",
   "pygments_lexer": "ipython3",
   "version": "3.9.5"
  },
  "widgets": {
   "application/vnd.jupyter.widget-state+json": {
    "062a53ceaae2405d8b9c78ccd115f6f8": {
     "model_module": "@jupyter-widgets/base",
     "model_name": "LayoutModel",
     "state": {
      "_model_module": "@jupyter-widgets/base",
      "_model_module_version": "1.2.0",
      "_model_name": "LayoutModel",
      "_view_count": null,
      "_view_module": "@jupyter-widgets/base",
      "_view_module_version": "1.2.0",
      "_view_name": "LayoutView",
      "align_content": null,
      "align_items": null,
      "align_self": null,
      "border": null,
      "bottom": null,
      "display": null,
      "flex": null,
      "flex_flow": null,
      "grid_area": null,
      "grid_auto_columns": null,
      "grid_auto_flow": null,
      "grid_auto_rows": null,
      "grid_column": null,
      "grid_gap": null,
      "grid_row": null,
      "grid_template_areas": null,
      "grid_template_columns": null,
      "grid_template_rows": null,
      "height": null,
      "justify_content": null,
      "justify_items": null,
      "left": null,
      "margin": null,
      "max_height": null,
      "max_width": null,
      "min_height": null,
      "min_width": null,
      "object_fit": null,
      "object_position": null,
      "order": null,
      "overflow": null,
      "overflow_x": null,
      "overflow_y": null,
      "padding": null,
      "right": null,
      "top": null,
      "visibility": null,
      "width": "auto"
     }
    },
    "0c91d3ed3c334a8d9b369ff04e71c0fb": {
     "model_module": "@jupyter-widgets/base",
     "model_name": "LayoutModel",
     "state": {
      "_model_module": "@jupyter-widgets/base",
      "_model_module_version": "1.2.0",
      "_model_name": "LayoutModel",
      "_view_count": null,
      "_view_module": "@jupyter-widgets/base",
      "_view_module_version": "1.2.0",
      "_view_name": "LayoutView",
      "align_content": null,
      "align_items": null,
      "align_self": null,
      "border": null,
      "bottom": null,
      "display": null,
      "flex": null,
      "flex_flow": null,
      "grid_area": "dircontent",
      "grid_auto_columns": null,
      "grid_auto_flow": null,
      "grid_auto_rows": null,
      "grid_column": null,
      "grid_gap": null,
      "grid_row": null,
      "grid_template_areas": null,
      "grid_template_columns": null,
      "grid_template_rows": null,
      "height": null,
      "justify_content": null,
      "justify_items": null,
      "left": null,
      "margin": null,
      "max_height": null,
      "max_width": null,
      "min_height": null,
      "min_width": null,
      "object_fit": null,
      "object_position": null,
      "order": null,
      "overflow": null,
      "overflow_x": null,
      "overflow_y": null,
      "padding": null,
      "right": null,
      "top": null,
      "visibility": null,
      "width": "auto"
     }
    },
    "141876f1413240c1b54b730c4c66f53e": {
     "model_module": "@jupyter-widgets/controls",
     "model_name": "HBoxModel",
     "state": {
      "_dom_classes": [],
      "_model_module": "@jupyter-widgets/controls",
      "_model_module_version": "1.5.0",
      "_model_name": "HBoxModel",
      "_view_count": null,
      "_view_module": "@jupyter-widgets/controls",
      "_view_module_version": "1.5.0",
      "_view_name": "HBoxView",
      "box_style": "",
      "children": [
       "IPY_MODEL_aa7f6885688e47619d5a31bf4be9251d",
       "IPY_MODEL_604c6e90cdce41f5adb34bf7b86d5070",
       "IPY_MODEL_a2544f1023084dc6a642b0279c4ce537"
      ],
      "layout": "IPY_MODEL_062a53ceaae2405d8b9c78ccd115f6f8"
     }
    },
    "1df08175a68647e8999aee639d89f695": {
     "model_module": "@jupyter-widgets/base",
     "model_name": "LayoutModel",
     "state": {
      "_model_module": "@jupyter-widgets/base",
      "_model_module_version": "1.2.0",
      "_model_name": "LayoutModel",
      "_view_count": null,
      "_view_module": "@jupyter-widgets/base",
      "_view_module_version": "1.2.0",
      "_view_name": "LayoutView",
      "align_content": null,
      "align_items": null,
      "align_self": null,
      "border": null,
      "bottom": null,
      "display": null,
      "flex": null,
      "flex_flow": null,
      "grid_area": "filename",
      "grid_auto_columns": null,
      "grid_auto_flow": null,
      "grid_auto_rows": null,
      "grid_column": null,
      "grid_gap": null,
      "grid_row": null,
      "grid_template_areas": null,
      "grid_template_columns": null,
      "grid_template_rows": null,
      "height": null,
      "justify_content": null,
      "justify_items": null,
      "left": null,
      "margin": null,
      "max_height": null,
      "max_width": null,
      "min_height": null,
      "min_width": null,
      "object_fit": null,
      "object_position": null,
      "order": null,
      "overflow": null,
      "overflow_x": null,
      "overflow_y": null,
      "padding": null,
      "right": null,
      "top": null,
      "visibility": null,
      "width": "auto"
     }
    },
    "2f5e1454fdfd4a349aeed23c2114fd50": {
     "model_module": "@jupyter-widgets/base",
     "model_name": "LayoutModel",
     "state": {
      "_model_module": "@jupyter-widgets/base",
      "_model_module_version": "1.2.0",
      "_model_name": "LayoutModel",
      "_view_count": null,
      "_view_module": "@jupyter-widgets/base",
      "_view_module_version": "1.2.0",
      "_view_name": "LayoutView",
      "align_content": null,
      "align_items": null,
      "align_self": null,
      "border": null,
      "bottom": null,
      "display": null,
      "flex": null,
      "flex_flow": null,
      "grid_area": null,
      "grid_auto_columns": null,
      "grid_auto_flow": null,
      "grid_auto_rows": null,
      "grid_column": null,
      "grid_gap": null,
      "grid_row": null,
      "grid_template_areas": null,
      "grid_template_columns": null,
      "grid_template_rows": null,
      "height": null,
      "justify_content": null,
      "justify_items": null,
      "left": null,
      "margin": null,
      "max_height": null,
      "max_width": null,
      "min_height": null,
      "min_width": null,
      "object_fit": null,
      "object_position": null,
      "order": null,
      "overflow": null,
      "overflow_x": null,
      "overflow_y": null,
      "padding": null,
      "right": null,
      "top": null,
      "visibility": null,
      "width": "auto"
     }
    },
    "308191e498a8466da7fc9da1bbe35036": {
     "model_module": "@jupyter-widgets/controls",
     "model_name": "ButtonStyleModel",
     "state": {
      "_model_module": "@jupyter-widgets/controls",
      "_model_module_version": "1.5.0",
      "_model_name": "ButtonStyleModel",
      "_view_count": null,
      "_view_module": "@jupyter-widgets/base",
      "_view_module_version": "1.2.0",
      "_view_name": "StyleView",
      "button_color": null,
      "font_weight": ""
     }
    },
    "39773a75ba1148d7bd884ce218918a32": {
     "model_module": "@jupyter-widgets/controls",
     "model_name": "DescriptionStyleModel",
     "state": {
      "_model_module": "@jupyter-widgets/controls",
      "_model_module_version": "1.5.0",
      "_model_name": "DescriptionStyleModel",
      "_view_count": null,
      "_view_module": "@jupyter-widgets/base",
      "_view_module_version": "1.2.0",
      "_view_name": "StyleView",
      "description_width": ""
     }
    },
    "452c2ce5bb0c4857a86664daca72fe7c": {
     "model_module": "@jupyter-widgets/controls",
     "model_name": "TextModel",
     "state": {
      "_dom_classes": [],
      "_model_module": "@jupyter-widgets/controls",
      "_model_module_version": "1.5.0",
      "_model_name": "TextModel",
      "_view_count": null,
      "_view_module": "@jupyter-widgets/controls",
      "_view_module_version": "1.5.0",
      "_view_name": "TextView",
      "continuous_update": true,
      "description": "",
      "description_tooltip": null,
      "disabled": false,
      "layout": "IPY_MODEL_1df08175a68647e8999aee639d89f695",
      "placeholder": "output filename",
      "style": "IPY_MODEL_39773a75ba1148d7bd884ce218918a32",
      "value": "2021-6-20T15 52 24-log.csv"
     }
    },
    "4d63925de0134bcea4399c0de09a673a": {
     "model_module": "@jupyter-widgets/controls",
     "model_name": "DropdownModel",
     "state": {
      "_dom_classes": [],
      "_model_module": "@jupyter-widgets/controls",
      "_model_module_version": "1.5.0",
      "_model_name": "DropdownModel",
      "_options_labels": [
       "/content/sample_data",
       "/content",
       "/"
      ],
      "_view_count": null,
      "_view_module": "@jupyter-widgets/controls",
      "_view_module_version": "1.5.0",
      "_view_name": "DropdownView",
      "description": "",
      "description_tooltip": null,
      "disabled": false,
      "index": 0,
      "layout": "IPY_MODEL_9f976080545a4fac9bec982b7a6bcc92",
      "style": "IPY_MODEL_d926bd06c1a04719943c30b7fafbdff0"
     }
    },
    "604c6e90cdce41f5adb34bf7b86d5070": {
     "model_module": "@jupyter-widgets/controls",
     "model_name": "ButtonModel",
     "state": {
      "_dom_classes": [],
      "_model_module": "@jupyter-widgets/controls",
      "_model_module_version": "1.5.0",
      "_model_name": "ButtonModel",
      "_view_count": null,
      "_view_module": "@jupyter-widgets/controls",
      "_view_module_version": "1.5.0",
      "_view_name": "ButtonView",
      "button_style": "",
      "description": "Cancel",
      "disabled": false,
      "icon": "",
      "layout": "IPY_MODEL_d2c4e6de2c3240d4950d6ea0e56f6eaf",
      "style": "IPY_MODEL_308191e498a8466da7fc9da1bbe35036",
      "tooltip": ""
     }
    },
    "73f3b139d93a4939ab20eac674ed0572": {
     "model_module": "@jupyter-widgets/controls",
     "model_name": "VBoxModel",
     "state": {
      "_dom_classes": [],
      "_model_module": "@jupyter-widgets/controls",
      "_model_module_version": "1.5.0",
      "_model_name": "VBoxModel",
      "_view_count": null,
      "_view_module": "@jupyter-widgets/controls",
      "_view_module_version": "1.5.0",
      "_view_name": "VBoxView",
      "box_style": "",
      "children": [
       "IPY_MODEL_beb1cdbbdd82439093b5e69713351f0d",
       "IPY_MODEL_df894be7acab406a9468e09dff17535d",
       "IPY_MODEL_141876f1413240c1b54b730c4c66f53e"
      ],
      "layout": "IPY_MODEL_e6b6fd5ba2cb4f1aa4c61f8edb4fbed3"
     }
    },
    "7b8f9dd488f84ef2bf1c6ef1fe9f708e": {
     "model_module": "@jupyter-widgets/controls",
     "model_name": "DescriptionStyleModel",
     "state": {
      "_model_module": "@jupyter-widgets/controls",
      "_model_module_version": "1.5.0",
      "_model_name": "DescriptionStyleModel",
      "_view_count": null,
      "_view_module": "@jupyter-widgets/base",
      "_view_module_version": "1.2.0",
      "_view_name": "StyleView",
      "description_width": ""
     }
    },
    "7d483bceb99748c1880968f81222f27a": {
     "model_module": "@jupyter-widgets/controls",
     "model_name": "ButtonStyleModel",
     "state": {
      "_model_module": "@jupyter-widgets/controls",
      "_model_module_version": "1.5.0",
      "_model_name": "ButtonStyleModel",
      "_view_count": null,
      "_view_module": "@jupyter-widgets/base",
      "_view_module_version": "1.2.0",
      "_view_name": "StyleView",
      "button_color": null,
      "font_weight": ""
     }
    },
    "8fa7764597154739a517123fcb84cd18": {
     "model_module": "@jupyter-widgets/base",
     "model_name": "LayoutModel",
     "state": {
      "_model_module": "@jupyter-widgets/base",
      "_model_module_version": "1.2.0",
      "_model_name": "LayoutModel",
      "_view_count": null,
      "_view_module": "@jupyter-widgets/base",
      "_view_module_version": "1.2.0",
      "_view_name": "LayoutView",
      "align_content": null,
      "align_items": null,
      "align_self": null,
      "border": null,
      "bottom": null,
      "display": "none",
      "flex": null,
      "flex_flow": null,
      "grid_area": null,
      "grid_auto_columns": null,
      "grid_auto_flow": null,
      "grid_auto_rows": null,
      "grid_column": null,
      "grid_gap": "0px 0px",
      "grid_row": null,
      "grid_template_areas": "\n                    'pathlist filename'\n                    'dircontent dircontent'\n                    ",
      "grid_template_columns": "60% 40%",
      "grid_template_rows": "auto auto",
      "height": null,
      "justify_content": null,
      "justify_items": null,
      "left": null,
      "margin": null,
      "max_height": null,
      "max_width": null,
      "min_height": null,
      "min_width": null,
      "object_fit": null,
      "object_position": null,
      "order": null,
      "overflow": null,
      "overflow_x": null,
      "overflow_y": null,
      "padding": null,
      "right": null,
      "top": null,
      "visibility": null,
      "width": "500px"
     }
    },
    "9925060c9a7c449b91a1efa39d263724": {
     "model_module": "@jupyter-widgets/controls",
     "model_name": "DescriptionStyleModel",
     "state": {
      "_model_module": "@jupyter-widgets/controls",
      "_model_module_version": "1.5.0",
      "_model_name": "DescriptionStyleModel",
      "_view_count": null,
      "_view_module": "@jupyter-widgets/base",
      "_view_module_version": "1.2.0",
      "_view_name": "StyleView",
      "description_width": ""
     }
    },
    "9f976080545a4fac9bec982b7a6bcc92": {
     "model_module": "@jupyter-widgets/base",
     "model_name": "LayoutModel",
     "state": {
      "_model_module": "@jupyter-widgets/base",
      "_model_module_version": "1.2.0",
      "_model_name": "LayoutModel",
      "_view_count": null,
      "_view_module": "@jupyter-widgets/base",
      "_view_module_version": "1.2.0",
      "_view_name": "LayoutView",
      "align_content": null,
      "align_items": null,
      "align_self": null,
      "border": null,
      "bottom": null,
      "display": null,
      "flex": null,
      "flex_flow": null,
      "grid_area": "pathlist",
      "grid_auto_columns": null,
      "grid_auto_flow": null,
      "grid_auto_rows": null,
      "grid_column": null,
      "grid_gap": null,
      "grid_row": null,
      "grid_template_areas": null,
      "grid_template_columns": null,
      "grid_template_rows": null,
      "height": null,
      "justify_content": null,
      "justify_items": null,
      "left": null,
      "margin": null,
      "max_height": null,
      "max_width": null,
      "min_height": null,
      "min_width": null,
      "object_fit": null,
      "object_position": null,
      "order": null,
      "overflow": null,
      "overflow_x": null,
      "overflow_y": null,
      "padding": null,
      "right": null,
      "top": null,
      "visibility": null,
      "width": "auto"
     }
    },
    "a2544f1023084dc6a642b0279c4ce537": {
     "model_module": "@jupyter-widgets/controls",
     "model_name": "HTMLModel",
     "state": {
      "_dom_classes": [],
      "_model_module": "@jupyter-widgets/controls",
      "_model_module_version": "1.5.0",
      "_model_name": "HTMLModel",
      "_view_count": null,
      "_view_module": "@jupyter-widgets/controls",
      "_view_module_version": "1.5.0",
      "_view_name": "HTMLView",
      "description": "",
      "description_tooltip": null,
      "layout": "IPY_MODEL_d0730e5a2f834d51b57ce44b0a15218e",
      "placeholder": "",
      "style": "IPY_MODEL_f0435a1c19e64a6bbf7d06ca1e2f0b93",
      "value": "<span style=\"margin-left:10px; color:orange;\">/content/sample_data/2021-6-20T15 52 24-log.csv</span>"
     }
    },
    "aa7f6885688e47619d5a31bf4be9251d": {
     "model_module": "@jupyter-widgets/controls",
     "model_name": "ButtonModel",
     "state": {
      "_dom_classes": [],
      "_model_module": "@jupyter-widgets/controls",
      "_model_module_version": "1.5.0",
      "_model_name": "ButtonModel",
      "_view_count": null,
      "_view_module": "@jupyter-widgets/controls",
      "_view_module_version": "1.5.0",
      "_view_name": "ButtonView",
      "button_style": "",
      "description": "Change",
      "disabled": false,
      "icon": "",
      "layout": "IPY_MODEL_2f5e1454fdfd4a349aeed23c2114fd50",
      "style": "IPY_MODEL_7d483bceb99748c1880968f81222f27a",
      "tooltip": ""
     }
    },
    "aed4bc919f3e4b4988c743ff4969c214": {
     "model_module": "@jupyter-widgets/controls",
     "model_name": "SelectModel",
     "state": {
      "_dom_classes": [],
      "_model_module": "@jupyter-widgets/controls",
      "_model_module_version": "1.5.0",
      "_model_name": "SelectModel",
      "_options_labels": [
       "..",
       "2021-6-20T15 52 24-log.csv",
       "README.md",
       "anscombe.json",
       "california_housing_test.csv",
       "california_housing_train.csv",
       "mnist_test.csv",
       "mnist_train_small.csv"
      ],
      "_view_count": null,
      "_view_module": "@jupyter-widgets/controls",
      "_view_module_version": "1.5.0",
      "_view_name": "SelectView",
      "description": "",
      "description_tooltip": null,
      "disabled": false,
      "index": 1,
      "layout": "IPY_MODEL_0c91d3ed3c334a8d9b369ff04e71c0fb",
      "rows": 8,
      "style": "IPY_MODEL_9925060c9a7c449b91a1efa39d263724"
     }
    },
    "b6f15823531a41879d74a9049f7cf700": {
     "model_module": "@jupyter-widgets/base",
     "model_name": "LayoutModel",
     "state": {
      "_model_module": "@jupyter-widgets/base",
      "_model_module_version": "1.2.0",
      "_model_name": "LayoutModel",
      "_view_count": null,
      "_view_module": "@jupyter-widgets/base",
      "_view_module_version": "1.2.0",
      "_view_name": "LayoutView",
      "align_content": null,
      "align_items": null,
      "align_self": null,
      "border": null,
      "bottom": null,
      "display": "none",
      "flex": null,
      "flex_flow": null,
      "grid_area": null,
      "grid_auto_columns": null,
      "grid_auto_flow": null,
      "grid_auto_rows": null,
      "grid_column": null,
      "grid_gap": null,
      "grid_row": null,
      "grid_template_areas": null,
      "grid_template_columns": null,
      "grid_template_rows": null,
      "height": null,
      "justify_content": null,
      "justify_items": null,
      "left": null,
      "margin": null,
      "max_height": null,
      "max_width": null,
      "min_height": null,
      "min_width": null,
      "object_fit": null,
      "object_position": null,
      "order": null,
      "overflow": null,
      "overflow_x": null,
      "overflow_y": null,
      "padding": null,
      "right": null,
      "top": null,
      "visibility": null,
      "width": null
     }
    },
    "beb1cdbbdd82439093b5e69713351f0d": {
     "model_module": "@jupyter-widgets/controls",
     "model_name": "HTMLModel",
     "state": {
      "_dom_classes": [],
      "_model_module": "@jupyter-widgets/controls",
      "_model_module_version": "1.5.0",
      "_model_name": "HTMLModel",
      "_view_count": null,
      "_view_module": "@jupyter-widgets/controls",
      "_view_module_version": "1.5.0",
      "_view_name": "HTMLView",
      "description": "",
      "description_tooltip": null,
      "layout": "IPY_MODEL_b6f15823531a41879d74a9049f7cf700",
      "placeholder": "​",
      "style": "IPY_MODEL_7b8f9dd488f84ef2bf1c6ef1fe9f708e",
      "value": ""
     }
    },
    "d0730e5a2f834d51b57ce44b0a15218e": {
     "model_module": "@jupyter-widgets/base",
     "model_name": "LayoutModel",
     "state": {
      "_model_module": "@jupyter-widgets/base",
      "_model_module_version": "1.2.0",
      "_model_name": "LayoutModel",
      "_view_count": null,
      "_view_module": "@jupyter-widgets/base",
      "_view_module_version": "1.2.0",
      "_view_name": "LayoutView",
      "align_content": null,
      "align_items": null,
      "align_self": null,
      "border": null,
      "bottom": null,
      "display": null,
      "flex": null,
      "flex_flow": null,
      "grid_area": null,
      "grid_auto_columns": null,
      "grid_auto_flow": null,
      "grid_auto_rows": null,
      "grid_column": null,
      "grid_gap": null,
      "grid_row": null,
      "grid_template_areas": null,
      "grid_template_columns": null,
      "grid_template_rows": null,
      "height": null,
      "justify_content": null,
      "justify_items": null,
      "left": null,
      "margin": null,
      "max_height": null,
      "max_width": null,
      "min_height": null,
      "min_width": null,
      "object_fit": null,
      "object_position": null,
      "order": null,
      "overflow": null,
      "overflow_x": null,
      "overflow_y": null,
      "padding": null,
      "right": null,
      "top": null,
      "visibility": null,
      "width": null
     }
    },
    "d2c4e6de2c3240d4950d6ea0e56f6eaf": {
     "model_module": "@jupyter-widgets/base",
     "model_name": "LayoutModel",
     "state": {
      "_model_module": "@jupyter-widgets/base",
      "_model_module_version": "1.2.0",
      "_model_name": "LayoutModel",
      "_view_count": null,
      "_view_module": "@jupyter-widgets/base",
      "_view_module_version": "1.2.0",
      "_view_name": "LayoutView",
      "align_content": null,
      "align_items": null,
      "align_self": null,
      "border": null,
      "bottom": null,
      "display": "none",
      "flex": null,
      "flex_flow": null,
      "grid_area": null,
      "grid_auto_columns": null,
      "grid_auto_flow": null,
      "grid_auto_rows": null,
      "grid_column": null,
      "grid_gap": null,
      "grid_row": null,
      "grid_template_areas": null,
      "grid_template_columns": null,
      "grid_template_rows": null,
      "height": null,
      "justify_content": null,
      "justify_items": null,
      "left": null,
      "margin": null,
      "max_height": null,
      "max_width": null,
      "min_height": null,
      "min_width": null,
      "object_fit": null,
      "object_position": null,
      "order": null,
      "overflow": null,
      "overflow_x": null,
      "overflow_y": null,
      "padding": null,
      "right": null,
      "top": null,
      "visibility": null,
      "width": "auto"
     }
    },
    "d926bd06c1a04719943c30b7fafbdff0": {
     "model_module": "@jupyter-widgets/controls",
     "model_name": "DescriptionStyleModel",
     "state": {
      "_model_module": "@jupyter-widgets/controls",
      "_model_module_version": "1.5.0",
      "_model_name": "DescriptionStyleModel",
      "_view_count": null,
      "_view_module": "@jupyter-widgets/base",
      "_view_module_version": "1.2.0",
      "_view_name": "StyleView",
      "description_width": ""
     }
    },
    "df894be7acab406a9468e09dff17535d": {
     "model_module": "@jupyter-widgets/controls",
     "model_name": "GridBoxModel",
     "state": {
      "_dom_classes": [],
      "_model_module": "@jupyter-widgets/controls",
      "_model_module_version": "1.5.0",
      "_model_name": "GridBoxModel",
      "_view_count": null,
      "_view_module": "@jupyter-widgets/controls",
      "_view_module_version": "1.5.0",
      "_view_name": "GridBoxView",
      "box_style": "",
      "children": [
       "IPY_MODEL_4d63925de0134bcea4399c0de09a673a",
       "IPY_MODEL_452c2ce5bb0c4857a86664daca72fe7c",
       "IPY_MODEL_aed4bc919f3e4b4988c743ff4969c214"
      ],
      "layout": "IPY_MODEL_8fa7764597154739a517123fcb84cd18"
     }
    },
    "e6b6fd5ba2cb4f1aa4c61f8edb4fbed3": {
     "model_module": "@jupyter-widgets/base",
     "model_name": "LayoutModel",
     "state": {
      "_model_module": "@jupyter-widgets/base",
      "_model_module_version": "1.2.0",
      "_model_name": "LayoutModel",
      "_view_count": null,
      "_view_module": "@jupyter-widgets/base",
      "_view_module_version": "1.2.0",
      "_view_name": "LayoutView",
      "align_content": null,
      "align_items": null,
      "align_self": null,
      "border": null,
      "bottom": null,
      "display": null,
      "flex": null,
      "flex_flow": null,
      "grid_area": null,
      "grid_auto_columns": null,
      "grid_auto_flow": null,
      "grid_auto_rows": null,
      "grid_column": null,
      "grid_gap": null,
      "grid_row": null,
      "grid_template_areas": null,
      "grid_template_columns": null,
      "grid_template_rows": null,
      "height": null,
      "justify_content": null,
      "justify_items": null,
      "left": null,
      "margin": null,
      "max_height": null,
      "max_width": null,
      "min_height": null,
      "min_width": null,
      "object_fit": null,
      "object_position": null,
      "order": null,
      "overflow": null,
      "overflow_x": null,
      "overflow_y": null,
      "padding": null,
      "right": null,
      "top": null,
      "visibility": null,
      "width": "auto"
     }
    },
    "f0435a1c19e64a6bbf7d06ca1e2f0b93": {
     "model_module": "@jupyter-widgets/controls",
     "model_name": "DescriptionStyleModel",
     "state": {
      "_model_module": "@jupyter-widgets/controls",
      "_model_module_version": "1.5.0",
      "_model_name": "DescriptionStyleModel",
      "_view_count": null,
      "_view_module": "@jupyter-widgets/base",
      "_view_module_version": "1.2.0",
      "_view_name": "StyleView",
      "description_width": ""
     }
    }
   }
  }
 },
 "nbformat": 4,
 "nbformat_minor": 4
}
